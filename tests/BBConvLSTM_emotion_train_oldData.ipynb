{
 "cells": [
  {
   "cell_type": "markdown",
   "metadata": {},
   "source": [
    "# Copyright Netherlands eScience Center and Centrum Wiskunde & Informatica <br>\n",
    "** Function     : Emotion recognition and forecast with BBConvLSTM** <br>\n",
    "** Author       : Yang Liu** <br>\n",
    "** Contributor  : Tianyi Zhang (Centrum Wiskunde & Informatica)<br>\n",
    "** First Built  : 2020.06.19 ** <br>\n",
    "** Last Update  : 2021.02.08 ** <br>\n",
    "** Library      : Pytorth, Numpy, os, DLACs, matplotlib **<br>\n",
    "Description     : This notebook serves to test the prediction skill of deep neural networks in emotion recognition and forecast. The Bayesian convolutional Long Short Time Memory neural network with Bernoulli approximate variational inference is used to deal with this spatial-temporal sequence problem. We use Pytorch as the deep learning framework. <br>\n",
    "<br>\n",
    "** Many to one prediction.** <br>\n",
    "\n",
    "Return Values   : Time series and figures <br>\n",
    "\n",
    "**This project is a joint venture between NLeSC and CWI** <br>\n",
    "\n",
    "The method comes from the study by Shi et. al. (2015) Convolutional LSTM Network: A Machine Learning Approach for Precipitation Nowcasting. <br>"
   ]
  },
  {
   "cell_type": "code",
   "execution_count": 1,
   "metadata": {},
   "outputs": [],
   "source": [
    "%matplotlib inline\n",
    "\n",
    "import sys\n",
    "import numbers\n",
    "\n",
    "# for data loading\n",
    "import os\n",
    "# for pre-processing and machine learning\n",
    "import numpy as np\n",
    "import csv\n",
    "#import sklearn\n",
    "#import scipy\n",
    "import torch\n",
    "import torch.nn.functional\n",
    "\n",
    "sys.path.append(\"../\")\n",
    "import nemo\n",
    "import nemo.ConvLSTM\n",
    "import nemo.BBConvLSTM\n",
    "import nemo.function\n",
    "import nemo.metric\n",
    "\n",
    "# for visualization\n",
    "import matplotlib\n",
    "import matplotlib.pyplot as plt\n",
    "from matplotlib.pyplot import cm"
   ]
  },
  {
   "cell_type": "markdown",
   "metadata": {},
   "source": [
    "The testing device is Dell Inspirion 5680 with Intel Core i7-8700 x64 CPU and Nvidia GTX 1060 6GB GPU.<br>\n",
    "Here is a benchmark about cpu v.s. gtx 1060 <br>\n",
    "https://www.analyticsindiamag.com/deep-learning-tensorflow-benchmark-intel-i5-4210u-vs-geforce-nvidia-1060-6gb/"
   ]
  },
  {
   "cell_type": "code",
   "execution_count": 2,
   "metadata": {},
   "outputs": [],
   "source": [
    "################################################################################# \n",
    "#########                           datapath                             ########\n",
    "#################################################################################\n",
    "# please specify data path\n",
    "datapath = 'C:\\\\Users\\\\nosta\\\\NEmo\\\\Data_CASE'\n",
    "output_path = 'C:\\\\Users\\\\nosta\\\\NEmo\\\\results'\n",
    "model_path = 'C:\\\\Users\\\\nosta\\\\NEmo\\\\models'"
   ]
  },
  {
   "cell_type": "code",
   "execution_count": 6,
   "metadata": {
    "scrolled": true
   },
   "outputs": [
    {
     "name": "stdout",
     "output_type": "stream",
     "text": [
      "*********************** extract variables *************************\n"
     ]
    }
   ],
   "source": [
    "if __name__==\"__main__\":\n",
    "    print ('*********************** extract variables *************************')\n",
    "    data = np.load(os.path.join(datapath, \"data_10s.npz\"))\n",
    "    #data = np.load(os.path.join(datapath, \"data_2s.npz\"))\n",
    "    #data = np.load(os.path.join(datapath, \"data_0.5s.npz\"))\n",
    "    #################################################################################\n",
    "    #########                        data gallery                           #########\n",
    "    #################################################################################\n",
    "    sample = data[\"Samples\"][:] # (batch_size, sample_size, channels)\n",
    "    label_c = data[\"Labels_c\"][:] # (batch_size, sample_size, 2)\n",
    "    label = data[\"Labels\"][:] # (batch_size, 2)\n",
    "    subject = data[\"Subject_id\"][:] # (batch_size, 2)\n",
    "    video_label = data[\"Video_labels\"][:] # (batch_size,1)\n",
    "    \n",
    "    # leave-one-out training and testing\n",
    "    num_s = 2\n",
    "    sample_train = sample[np.where(subject!=num_s)[0],:,0:5]\n",
    "    sample_test = sample[np.where(subject==num_s)[0],:,0:5]\n",
    "    \n",
    "    label_c_train = label_c[np.where(subject!=num_s)[0],:,:] / 10 # normalize\n",
    "    label_c_test = label_c[np.where(subject==num_s)[0],:,:] / 10 # normalize"
   ]
  },
  {
   "cell_type": "code",
   "execution_count": 12,
   "metadata": {},
   "outputs": [
    {
     "name": "stdout",
     "output_type": "stream",
     "text": [
      "================  extract individual variables  =================\n"
     ]
    }
   ],
   "source": [
    "    #################################################################################\n",
    "    #########                      pre-processing                           #########\n",
    "    #################################################################################\n",
    "    # choose the target dimension for reshaping of the signals\n",
    "    batch_train_size, sample_size, channels = sample_train.shape\n",
    "    batch_test_size, _, _ = sample_test.shape\n",
    "    _, _, label_channels = label_c_train.shape\n",
    "    x_dim = 5\n",
    "    y_dim = 5\n",
    "    series_len = sample_size // (y_dim * x_dim)\n",
    "    # reshape the input and labels\n",
    "    sample_train_xy = np.reshape(x_train,[batch_train_size, series_len, y_dim, x_dim, channels])\n",
    "    sample_test_xy = np.reshape(sample_test,[batch_test_size, series_len, y_dim, x_dim, channels])\n",
    "    label_c_train_xy = np.reshape(label_c_train,[batch_train_size, series_len, y_dim, x_dim, label_channels])\n",
    "    label_c_test_xy = np.reshape(label_c_test,[batch_test_size, series_len, y_dim, x_dim, label_channels])\n",
    "    #################################################################################\n",
    "    #########                       normalization                           #########\n",
    "    #################################################################################\n",
    "    print('================  extract individual variables  =================')\n",
    "    sample_1 = sample_train_xy[:,:,:,:,0]\n",
    "    sample_2 = sample_train_xy[:,:,:,:,1]\n",
    "    sample_3 = sample_train_xy[:,:,:,:,2]\n",
    "    sample_4 = sample_train_xy[:,:,:,:,3]\n",
    "    sample_5 = sample_train_xy[:,:,:,:,4]\n",
    "    \n",
    "    sample_1_test = sample_test_xy[:,:,:,:,0]\n",
    "    sample_2_test = sample_test_xy[:,:,:,:,1]\n",
    "    sample_3_test = sample_test_xy[:,:,:,:,2]\n",
    "    sample_4_test = sample_test_xy[:,:,:,:,3]\n",
    "    sample_5_test = sample_test_xy[:,:,:,:,4]   \n",
    "    \n",
    "    label_c_valance = label_c_train_xy[:,:,:,:,0]\n",
    "    label_c_arousal = label_c_train_xy[:,:,:,:,1]\n",
    "    \n",
    "    label_c_test_valance = label_c_test_xy[:,:,:,:,0]\n",
    "    label_c_test_arousal = label_c_test_xy[:,:,:,:,1]\n",
    "    \n",
    "    # using indicator for training\n",
    "    # video_label_3D = np.repeat(video_label[:,np.newaxis,:],series_len,1)\n",
    "    # video_label_4D = np.repeat(video_label_3D[:,:,np.newaxis,:],y_dim,2)\n",
    "    # video_label_xy = np.repeat(video_label_4D[:,:,:,np.newaxis,:],x_dim,3)\n",
    "    # video_label_xy.astype(float)"
   ]
  },
  {
   "cell_type": "code",
   "execution_count": 13,
   "metadata": {
    "scrolled": true
   },
   "outputs": [
    {
     "name": "stdout",
     "output_type": "stream",
     "text": [
      "3567\n",
      "123\n",
      "(3690, 1000, 8)\n",
      "(3690, 1000, 2)\n",
      "(3690, 2)\n",
      "(3690, 1)\n",
      "(3690, 1)\n",
      "(3567, 40, 5, 5, 2)\n"
     ]
    }
   ],
   "source": [
    "    # first check of data shape\n",
    "    print(batch_train_size)\n",
    "    print(batch_test_size)\n",
    "    print(sample.shape)\n",
    "    print(label_c.shape)\n",
    "    print(label.shape)\n",
    "    print(subject.shape)\n",
    "    print(video_label.shape)\n",
    "    # check of reshape\n",
    "    print(label_c_train_xy.shape)"
   ]
  },
  {
   "cell_type": "markdown",
   "metadata": {},
   "source": [
    "# Procedure for LSTM <br>\n",
    "** We use Pytorth to implement LSTM neural network with time series of climate data. ** <br>"
   ]
  },
  {
   "cell_type": "code",
   "execution_count": 14,
   "metadata": {},
   "outputs": [
    {
     "name": "stdout",
     "output_type": "stream",
     "text": [
      "*******************  create basic dimensions for tensor and network  *********************\n",
      "1.1.0\n",
      "Is CUDA available? True\n",
      "*******************  cross validation and testing data  *********************\n"
     ]
    }
   ],
   "source": [
    "    print ('*******************  create basic dimensions for tensor and network  *********************')\n",
    "    # specifications of neural network\n",
    "    input_channels = 5\n",
    "    hidden_channels = [4, 3, 2] # number of channels & hidden layers, the channels of last layer is the channels of output, too\n",
    "    #hidden_channels = [3, 3, 3, 3, 2]\n",
    "    #hidden_channels = [2]\n",
    "    kernel_size = 3\n",
    "    # here we input a sequence and predict the next step only\n",
    "    learning_rate = 0.01\n",
    "    num_epochs = 3\n",
    "    # probability of dropout\n",
    "    p = 0.5 # 0.5 for Bernoulli (binary) distribution\n",
    "    print (torch.__version__)\n",
    "    # check if CUDA is available\n",
    "    use_cuda = torch.cuda.is_available()\n",
    "    print(\"Is CUDA available? {}\".format(use_cuda))\n",
    "    # CUDA settings torch.__version__ must > 0.4\n",
    "    # !!! This is important for the model!!! The first option is gpu\n",
    "    device = torch.device(\"cuda:0\" if torch.cuda.is_available() else \"cpu\")\n",
    "    print ('*******************  cross validation and testing data  *********************')\n",
    "    # mini-batch\n",
    "    mini_batch_size = 64\n",
    "    # iterations\n",
    "    iterations = batch_train_size // mini_batch_size\n",
    "    if batch_train_size % mini_batch_size != 0:\n",
    "        extra_loop = True\n",
    "        iterations += 1\n",
    "    else:\n",
    "        extra_loop = False\n",
    "    print(extra_loop)"
   ]
  },
  {
   "cell_type": "code",
   "execution_count": 15,
   "metadata": {},
   "outputs": [
    {
     "name": "stdout",
     "output_type": "stream",
     "text": [
      "*******************  run LSTM  *********************\n",
      "The model is designed to make many to one prediction.\n",
      "A series of multi-chanel variables will be input to the model.\n",
      "The model learns by verifying the output at each timestep.\n"
     ]
    },
    {
     "name": "stderr",
     "output_type": "stream",
     "text": [
      "G:\\Anaconda\\lib\\site-packages\\torch\\nn\\_reduction.py:46: UserWarning: size_average and reduce args will be deprecated, please use reduction='mean' instead.\n",
      "  warnings.warn(warning.format(ret))\n"
     ]
    },
    {
     "name": "stdout",
     "output_type": "stream",
     "text": [
      "BBConvLSTM(\n",
      "  (cell0): BBConvLSTMCell(\n",
      "    (Wxi): Conv2d(5, 4, kernel_size=(3, 3), stride=(1, 1), padding=(1, 1))\n",
      "    (Whi): Conv2d(4, 4, kernel_size=(3, 3), stride=(1, 1), padding=(1, 1), bias=False)\n",
      "    (Wxf): Conv2d(5, 4, kernel_size=(3, 3), stride=(1, 1), padding=(1, 1))\n",
      "    (Whf): Conv2d(4, 4, kernel_size=(3, 3), stride=(1, 1), padding=(1, 1), bias=False)\n",
      "    (Wxc): Conv2d(5, 4, kernel_size=(3, 3), stride=(1, 1), padding=(1, 1))\n",
      "    (Whc): Conv2d(4, 4, kernel_size=(3, 3), stride=(1, 1), padding=(1, 1), bias=False)\n",
      "    (Wxo): Conv2d(5, 4, kernel_size=(3, 3), stride=(1, 1), padding=(1, 1))\n",
      "    (Who): Conv2d(4, 4, kernel_size=(3, 3), stride=(1, 1), padding=(1, 1), bias=False)\n",
      "    (dropout): Dropout2d(p=0.5)\n",
      "  )\n",
      "  (cell1): BBConvLSTMCell(\n",
      "    (Wxi): Conv2d(4, 3, kernel_size=(3, 3), stride=(1, 1), padding=(1, 1))\n",
      "    (Whi): Conv2d(3, 3, kernel_size=(3, 3), stride=(1, 1), padding=(1, 1), bias=False)\n",
      "    (Wxf): Conv2d(4, 3, kernel_size=(3, 3), stride=(1, 1), padding=(1, 1))\n",
      "    (Whf): Conv2d(3, 3, kernel_size=(3, 3), stride=(1, 1), padding=(1, 1), bias=False)\n",
      "    (Wxc): Conv2d(4, 3, kernel_size=(3, 3), stride=(1, 1), padding=(1, 1))\n",
      "    (Whc): Conv2d(3, 3, kernel_size=(3, 3), stride=(1, 1), padding=(1, 1), bias=False)\n",
      "    (Wxo): Conv2d(4, 3, kernel_size=(3, 3), stride=(1, 1), padding=(1, 1))\n",
      "    (Who): Conv2d(3, 3, kernel_size=(3, 3), stride=(1, 1), padding=(1, 1), bias=False)\n",
      "    (dropout): Dropout2d(p=0.5)\n",
      "  )\n",
      "  (cell2): BBConvLSTMCell(\n",
      "    (Wxi): Conv2d(3, 2, kernel_size=(3, 3), stride=(1, 1), padding=(1, 1))\n",
      "    (Whi): Conv2d(2, 2, kernel_size=(3, 3), stride=(1, 1), padding=(1, 1), bias=False)\n",
      "    (Wxf): Conv2d(3, 2, kernel_size=(3, 3), stride=(1, 1), padding=(1, 1))\n",
      "    (Whf): Conv2d(2, 2, kernel_size=(3, 3), stride=(1, 1), padding=(1, 1), bias=False)\n",
      "    (Wxc): Conv2d(3, 2, kernel_size=(3, 3), stride=(1, 1), padding=(1, 1))\n",
      "    (Whc): Conv2d(2, 2, kernel_size=(3, 3), stride=(1, 1), padding=(1, 1), bias=False)\n",
      "    (Wxo): Conv2d(3, 2, kernel_size=(3, 3), stride=(1, 1), padding=(1, 1))\n",
      "    (Who): Conv2d(2, 2, kernel_size=(3, 3), stride=(1, 1), padding=(1, 1), bias=False)\n",
      "    (dropout): Dropout2d(p=0.5)\n",
      "  )\n",
      ")\n",
      "MSELoss()\n",
      "Adam (\n",
      "Parameter Group 0\n",
      "    amsgrad: False\n",
      "    betas: (0.9, 0.999)\n",
      "    eps: 1e-08\n",
      "    lr: 0.01\n",
      "    weight_decay: 0\n",
      ")\n",
      "Wall time: 2.02 s\n"
     ]
    }
   ],
   "source": [
    "    %%time\n",
    "    print ('*******************  run BBConvLSTM  *********************')\n",
    "    print ('The model is designed to make many to one prediction.')\n",
    "    print ('A series of multi-chanel variables will be input to the model.')\n",
    "    print ('The model learns by verifying the output at each timestep.')\n",
    "    # check the sequence length\n",
    "    _, sequence_len, height, width = sample_1.shape\n",
    "    # initialize our model\n",
    "    model = nemo.BBConvLSTM.BBConvLSTM(input_channels, hidden_channels, kernel_size, p).to(device)\n",
    "    loss_fn = torch.nn.MSELoss(size_average=True)\n",
    "    # stochastic gradient descent\n",
    "    #optimizer = torch.optim.SGD(model.parameters(), lr=learning_rate, momentum=0.9)\n",
    "    # Adam optimizer\n",
    "    optimiser = torch.optim.Adam(model.parameters(), lr=learning_rate)\n",
    "    print(model)\n",
    "    print(loss_fn)\n",
    "    print(optimiser)"
   ]
  },
  {
   "cell_type": "code",
   "execution_count": null,
   "metadata": {},
   "outputs": [],
   "source": [
    "    for name, param in model.named_parameters():\n",
    "        if param.requires_grad:\n",
    "            print (name)\n",
    "            print (param.data)\n",
    "            print (param.size())\n",
    "            print (\"=========================\")"
   ]
  },
  {
   "cell_type": "code",
   "execution_count": null,
   "metadata": {},
   "outputs": [],
   "source": [
    "    print('##############################################################')\n",
    "    print('#############  preview model parameters matrix  ###############')\n",
    "    print('##############################################################')\n",
    "    print('Number of parameter matrices: ', len(list(model.parameters())))\n",
    "    for i in range(len(list(model.parameters()))):\n",
    "        print(list(model.parameters())[i].size())"
   ]
  },
  {
   "cell_type": "code",
   "execution_count": 16,
   "metadata": {},
   "outputs": [
    {
     "name": "stdout",
     "output_type": "stream",
     "text": [
      "##############################################################\n",
      "##################  start training loop  #####################\n",
      "##############################################################\n",
      "Epoch 0 Iteration 0 MSE: 12.845\n",
      "Epoch 0 Iteration 10 MSE: 2.130\n",
      "Epoch 0 Iteration 20 MSE: 1.604\n",
      "Epoch 0 Iteration 30 MSE: 3.075\n",
      "Epoch 0 Iteration 40 MSE: 2.190\n",
      "Epoch 0 Iteration 50 MSE: 1.536\n",
      "Epoch 1 Iteration 0 MSE: 0.960\n",
      "Epoch 1 Iteration 10 MSE: 1.339\n",
      "Epoch 1 Iteration 20 MSE: 1.647\n",
      "Epoch 1 Iteration 30 MSE: 2.314\n",
      "Epoch 1 Iteration 40 MSE: 1.438\n",
      "Epoch 1 Iteration 50 MSE: 0.977\n",
      "Epoch 2 Iteration 0 MSE: 1.194\n",
      "Epoch 2 Iteration 10 MSE: 0.433\n",
      "Epoch 2 Iteration 20 MSE: 1.228\n",
      "Epoch 2 Iteration 30 MSE: 1.762\n",
      "Epoch 2 Iteration 40 MSE: 1.072\n",
      "Epoch 2 Iteration 50 MSE: 0.940\n",
      "Wall time: 1h 10min 31s\n"
     ]
    }
   ],
   "source": [
    "    %%time\n",
    "    print('##############################################################')\n",
    "    print('##################  start training loop  #####################')\n",
    "    print('##############################################################')\n",
    "    hist = np.zeros(num_epochs * iterations)\n",
    "    # loop of epoch\n",
    "    for t in range(num_epochs):\n",
    "        for i in range(iterations):\n",
    "            # Clear stored gradient\n",
    "            model.zero_grad()\n",
    "            # loop\n",
    "            loop_num = mini_batch_size\n",
    "            if i == iterations - 1:\n",
    "                if extra_loop:\n",
    "                    loop_num = batch_train_size % mini_batch_size\n",
    "            for j in range(loop_num):\n",
    "            # loop of timestep\n",
    "                for timestep in range(sequence_len):\n",
    "                    # hidden state re-initialized inside the model when timestep=0\n",
    "                    #################################################################################\n",
    "                    ########          create input tensor with multi-input dimension         ########\n",
    "                    #################################################################################\n",
    "                    # create variables\n",
    "                    x_input = np.stack((sample_1[i*mini_batch_size+j,timestep,:,:],\n",
    "                                        sample_2[i*mini_batch_size+j,timestep,:,:],\n",
    "                                        sample_3[i*mini_batch_size+j,timestep,:,:],\n",
    "                                        sample_4[i*mini_batch_size+j,timestep,:,:],\n",
    "                                        sample_5[i*mini_batch_size+j,timestep,:,:])) #vstack,hstack,dstack\n",
    "                    x_var = torch.autograd.Variable(torch.Tensor(x_input).view(-1,input_channels,height,width)).to(device)\n",
    "                    #################################################################################\n",
    "                    ########       create training tensor with multi-input dimension         ########\n",
    "                    #################################################################################\n",
    "                    y_train_stack = np.stack((label_c_valance[i*mini_batch_size+j,timestep,:,:],\n",
    "                                              label_c_arousal[i*mini_batch_size+j,timestep,:,:])) #vstack,hstack,dstack\n",
    "                    y_var = torch.autograd.Variable(torch.Tensor(y_train_stack).view(-1,hidden_channels[-1],height,width)).to(device)\n",
    "                    #################################################################################   \n",
    "                    # Forward pass\n",
    "                    y_pred, _ = model(x_var, timestep)\n",
    "                    # choose training data\n",
    "                    y_train = y_var        \n",
    "                    # torch.nn.functional.mse_loss(y_pred, y_train) can work with (scalar,vector) & (vector,vector)\n",
    "                    # Please Make Sure y_pred & y_train have the same dimension\n",
    "                    # accumulate loss\n",
    "                    if timestep == 0:\n",
    "                        loss = loss_fn(y_pred, y_train)\n",
    "                    else:\n",
    "                        loss += loss_fn(y_pred, y_train)\n",
    "            # print loss at certain iteration\n",
    "            if i % 10 == 0:\n",
    "                print(\"Epoch {} Iteration {} MSE: {:0.3f}\".format(t, i, loss.item()))\n",
    "                # Gradcheck requires double precision numbers to run\n",
    "                #res = torch.autograd.gradcheck(loss_fn, (y_pred.double(), y_train.double()), eps=1e-6, raise_exception=True)\n",
    "                #print(res)\n",
    "            hist[i+t*iterations] = loss.item()\n",
    "\n",
    "            # Zero out gradient, else they will accumulate between epochs\n",
    "            optimiser.zero_grad()\n",
    "    \n",
    "            # Backward pass\n",
    "            loss.backward()\n",
    "\n",
    "            # Update parameters\n",
    "            optimiser.step()\n",
    "        \n",
    "    # save the model\n",
    "    # (recommended) save the model parameters only\n",
    "    torch.save(model.state_dict(), os.path.join(model_path,'BBconvlstm_emotion.pkl'))\n",
    "    # save the entire model\n",
    "    #torch.save(model, os.path.join(output_path,'convlstm.pkl'))"
   ]
  },
  {
   "cell_type": "code",
   "execution_count": 17,
   "metadata": {},
   "outputs": [
    {
     "name": "stdout",
     "output_type": "stream",
     "text": [
      "*******************  Loss with time  **********************\n",
      "*******************  Loss with time (log)  **********************\n"
     ]
    },
    {
     "data": {
      "image/png": "[encoded data removed]",
      "text/plain": [
       "<Figure size 432x288 with 1 Axes>"
      ]
     },
     "metadata": {
      "needs_background": "light"
     },
     "output_type": "display_data"
    },
    {
     "data": {
      "image/png": "[encoded data removed]",
      "text/plain": [
       "<Figure size 432x288 with 1 Axes>"
      ]
     },
     "metadata": {
      "needs_background": "light"
     },
     "output_type": "display_data"
    }
   ],
   "source": [
    "    #################################################################################\n",
    "    ###########                 after training statistics                 ###########\n",
    "    #################################################################################\n",
    "    print (\"*******************  Loss with time  **********************\")\n",
    "    fig00 = plt.figure()\n",
    "    plt.plot(hist, 'r', label=\"Training loss\")\n",
    "    plt.xlabel('Iterations')\n",
    "    plt.ylabel('MSE Error')\n",
    "    plt.legend()\n",
    "    fig00.savefig(os.path.join(output_path,'BBConvLSTM_train_mse_error.png'),dpi=150)\n",
    "    \n",
    "    print (\"*******************  Loss with time (log)  **********************\")\n",
    "    fig01 = plt.figure()\n",
    "    plt.plot(np.log(hist), 'r', label=\"Training loss\")\n",
    "    plt.xlabel('Iterations')\n",
    "    plt.ylabel('Log mse error')\n",
    "    plt.legend()\n",
    "    plt.show()\n",
    "    fig01.savefig(os.path.join(output_path,'BBConvLSTM_train_log_mse_error.png'),dpi=150)"
   ]
  },
  {
   "cell_type": "code",
   "execution_count": 18,
   "metadata": {},
   "outputs": [
    {
     "name": "stdout",
     "output_type": "stream",
     "text": [
      "*******************  evaluation matrix  *********************\n"
     ]
    }
   ],
   "source": [
    "    print ('*******************  evaluation matrix  *********************')\n",
    "    # The prediction will be evaluated through RMSE against climatology\n",
    "    \n",
    "    # error score for temporal-spatial fields, without keeping spatial pattern\n",
    "    def RMSE(x,y):\n",
    "        \"\"\"\n",
    "        Calculate the RMSE. x is input series and y is reference series.\n",
    "        It calculates RMSE over the domain, not over time. The spatial structure\n",
    "        will not be kept.\n",
    "        Parameter\n",
    "        ----------------------\n",
    "        x: input time series with the shape [time, lat, lon]\n",
    "        \"\"\"\n",
    "        x_series = x.reshape(x.shape[0],-1)\n",
    "        y_series = y.reshape(y.shape[0],-1)\n",
    "        rmse = np.sqrt(np.mean((x_series - y_series)**2,1))\n",
    "        rmse_std = np.sqrt(np.std((x_series - y_series)**2,1))\n",
    "    \n",
    "        return rmse, rmse_std\n",
    "    \n",
    "    # error score for temporal-spatial fields, keeping spatial pattern\n",
    "    def MAE(x,y):\n",
    "        \"\"\"\n",
    "        Calculate the MAE. x is input series and y is reference series.\n",
    "        It calculate MAE over time and keeps the spatial structure.\n",
    "        \"\"\"\n",
    "        mae = np.mean(np.abs(x-y),0)\n",
    "        \n",
    "        return mae\n",
    "    \n",
    "    def MSE(x, y):\n",
    "        \"\"\"\n",
    "        Calculate the MSE. x is input series and y is reference series.\n",
    "        \"\"\"\n",
    "        mse = np.mean((x-y)**2)\n",
    "        \n",
    "        return mse"
   ]
  },
  {
   "cell_type": "code",
   "execution_count": 19,
   "metadata": {},
   "outputs": [
    {
     "name": "stdout",
     "output_type": "stream",
     "text": [
      "##############################################################\n",
      "###################  start prediction loop ###################\n",
      "##############################################################\n",
      "*******************  Loss with time  **********************\n",
      "Wall time: 47.7 s\n"
     ]
    },
    {
     "data": {
      "image/png": "[encoded data removed]",
      "text/plain": [
       "<Figure size 432x288 with 1 Axes>"
      ]
     },
     "metadata": {
      "needs_background": "light"
     },
     "output_type": "display_data"
    }
   ],
   "source": [
    "    %%time\n",
    "    #################################################################################\n",
    "    ########                           prediction                            ########\n",
    "    #################################################################################\n",
    "    print('##############################################################')\n",
    "    print('###################  start prediction loop ###################')\n",
    "    print('##############################################################')\n",
    "    # forecast array\n",
    "    pred_valance = np.zeros((batch_test_size, series_len, y_dim, x_dim),dtype=float)\n",
    "    pred_arousal = np.zeros((batch_test_size, series_len, y_dim, x_dim),dtype=float)\n",
    "    # calculate loss for each sample\n",
    "    hist_valance = np.zeros(batch_test_size)\n",
    "    hist_arousal = np.zeros(batch_test_size)\n",
    "    for n in range(batch_test_size):\n",
    "        # Clear stored gradient\n",
    "        model.zero_grad()\n",
    "        for timestep in range(sequence_len):\n",
    "            x_input = np.stack((sample_1_test[n,timestep,:,:],\n",
    "                                sample_2_test[n,timestep,:,:],\n",
    "                                sample_3_test[n,timestep,:,:],\n",
    "                                sample_4_test[n,timestep,:,:],\n",
    "                                sample_5_test[n,timestep,:,:]))\n",
    "            x_var_pred = torch.autograd.Variable(torch.Tensor(x_input).view(-1,input_channels,height,width),\n",
    "                                                 requires_grad=False).to(device)\n",
    "            # make prediction\n",
    "            last_pred, _ = model(x_var_pred, timestep)\n",
    "            # GPU data should be transferred to CPU\n",
    "            pred_valance[n,timestep,:,:] = last_pred[0,0,:,:].cpu().data.numpy()\n",
    "            pred_arousal[n,timestep,:,:] = last_pred[0,1,:,:].cpu().data.numpy()\n",
    "        # compute the error for each sample\n",
    "        hist_valance[n] = MSE(label_c_test_valance[n,:,:,:], pred_valance[n,:,:,:])\n",
    "        hist_arousal[n] = MSE(label_c_test_arousal[n,:,:,:], pred_arousal[n,:,:,:]) \n",
    "    \n",
    "    # save prediction as npz file\n",
    "    np.savez_compressed(os.path.join(output_path,'BBConvLSTM_emotion_pred.npz'),\n",
    "                        valance=pred_valance, arousal=pred_arousal)\n",
    "    # plot the error\n",
    "    print (\"*******************  Loss with time  **********************\")\n",
    "    fig00 = plt.figure()\n",
    "    plt.plot(hist_valance, 'r', label=\"Training loss - valance\")\n",
    "    plt.plot(hist_arousal, 'b', label=\"Training loss - arousal\")\n",
    "    plt.xlabel('Sample')\n",
    "    plt.ylabel('MSE Error')\n",
    "    plt.legend()\n",
    "    plt.tight_layout()\n",
    "    fig00.savefig(os.path.join(output_path,'BBConvLSTM_pred_mse_error.png'),dpi=150)"
   ]
  },
  {
   "cell_type": "code",
   "execution_count": 20,
   "metadata": {},
   "outputs": [
    {
     "name": "stdout",
     "output_type": "stream",
     "text": [
      "0.050719814108085896\n",
      "0.06210327621293731\n"
     ]
    }
   ],
   "source": [
    "    #####################################################################################\n",
    "    ########         visualization of prediction and implement metrics           ########\n",
    "    #####################################################################################\n",
    "    # compute mse\n",
    "    mse_valance = MSE(label_c_test_valance, pred_valance)\n",
    "    print(mse_valance)\n",
    "    mse_arousal = MSE(label_c_test_arousal, pred_arousal)\n",
    "    print(mse_arousal)\n",
    "    # save output as csv file\n",
    "    with open(os.path.join(output_path, \"MSE_BBConvLSTM_emotion.csv\"), \"wt+\") as fp:\n",
    "        writer = csv.writer(fp, delimiter=\",\")\n",
    "        writer.writerow([\"emotion prediction\"])  # write header\n",
    "        writer.writerow([\"label valance\"])\n",
    "        writer.writerow([mse_valance])\n",
    "        writer.writerow([\"label arousal\"])\n",
    "        writer.writerow([mse_arousal])"
   ]
  }
 ],
 "metadata": {
  "kernelspec": {
   "display_name": "Python 3",
   "language": "python",
   "name": "python3"
  },
  "language_info": {
   "codemirror_mode": {
    "name": "ipython",
    "version": 3
   },
   "file_extension": ".py",
   "mimetype": "text/x-python",
   "name": "python",
   "nbconvert_exporter": "python",
   "pygments_lexer": "ipython3",
   "version": "3.6.5"
  }
 },
 "nbformat": 4,
 "nbformat_minor": 4
}
