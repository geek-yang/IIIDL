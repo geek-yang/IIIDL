{
 "cells": [
  {
   "cell_type": "markdown",
   "metadata": {},
   "source": [
    "# Copyright Netherlands eScience Center and Centrum Wiskunde & Informatica <br>\n",
    "** Function     : Emotion recognition and forecast with ConvLSTM** <br>\n",
    "** Author       : Yang Liu** <br>\n",
    "** Contributor  : Tianyi Zhang (Centrum Wiskunde & Informatica)<br>\n",
    "** Last Update  : 2021.02.08 ** <br>\n",
    "** Last Update  : 2021.02.12 ** <br>\n",
    "** Library      : Pytorth, Numpy, os, DLACs, matplotlib **<br>\n",
    "Description     : This notebook serves to test the prediction skill of deep neural networks in emotion recognition and forecast. The convolutional Long Short Time Memory neural network is used to deal with this spatial-temporal sequence problem. We use Pytorch as the deep learning framework. <br>\n",
    "<br>\n",
    "** Many to one prediction.** <br>\n",
    "\n",
    "Return Values   : Time series and figures <br>\n",
    "\n",
    "**This project is a joint venture between NLeSC and CWI** <br>\n",
    "\n",
    "The method comes from the study by Shi et. al. (2015) Convolutional LSTM Network: A Machine Learning Approach for Precipitation Nowcasting. <br>"
   ]
  },
  {
   "cell_type": "code",
   "execution_count": 1,
   "metadata": {},
   "outputs": [],
   "source": [
    "%matplotlib inline\n",
    "\n",
    "import sys\n",
    "import numbers\n",
    "import pickle\n",
    "\n",
    "# for data loading\n",
    "import os\n",
    "# for pre-processing and machine learning\n",
    "import numpy as np\n",
    "import csv\n",
    "#import sklearn\n",
    "from scipy.signal import resample\n",
    "#import scipy\n",
    "import torch\n",
    "import torch.nn.functional\n",
    "\n",
    "sys.path.append(\"../\")\n",
    "\n",
    "import nemo\n",
    "import nemo.ConvLSTM\n",
    "import nemo.function\n",
    "import nemo.metric\n",
    "\n",
    "# for visualization\n",
    "import matplotlib\n",
    "import matplotlib.pyplot as plt\n",
    "from matplotlib.pyplot import cm"
   ]
  },
  {
   "cell_type": "markdown",
   "metadata": {},
   "source": [
    "The testing device is Dell Inspirion 5680 with Intel Core i7-8700 x64 CPU and Nvidia GTX 1060 6GB GPU.<br>\n",
    "Here is a benchmark about cpu v.s. gtx 1060 <br>\n",
    "https://www.analyticsindiamag.com/deep-learning-tensorflow-benchmark-intel-i5-4210u-vs-geforce-nvidia-1060-6gb/"
   ]
  },
  {
   "cell_type": "code",
   "execution_count": 2,
   "metadata": {},
   "outputs": [],
   "source": [
    "################################################################################# \n",
    "#########                           datapath                             ########\n",
    "#################################################################################\n",
    "# please specify data path\n",
    "datapath = 'C:\\\\Users\\\\nosta\\\\NEmo\\\\Data_CASE'\n",
    "output_path = 'C:\\\\Users\\\\nosta\\\\NEmo\\\\results'\n",
    "model_path = 'C:\\\\Users\\\\nosta\\\\NEmo\\\\models'\n",
    "# please specify the constants for input data\n",
    "window_size = 2000 # down-sampling constant\n",
    "seq = 20\n",
    "v_a = 0 # valance = 0, arousal = 1\n",
    "# leave-one-out training and testing\n",
    "num_s = 2"
   ]
  },
  {
   "cell_type": "code",
   "execution_count": 3,
   "metadata": {},
   "outputs": [],
   "source": [
    "def load_data_new(window_size, num_s, v_a, datapath):\n",
    "    \"\"\"\n",
    "    For long cuts of data and the type is pickle.\n",
    "    \"\"\"\n",
    "    f = open(os.path.join(datapath, 'data_{}s'.format(int(window_size/100))),'rb')\n",
    "    data = pickle.load(f)\n",
    "    f.close()\n",
    "    \n",
    "    samples = data[\"Samples\"]\n",
    "    labels = data[\"label_s\"]\n",
    "    subject_id = data[\"Subject_id\"]\n",
    "    \n",
    "    x_train = samples[np.where(subject_id!=num_s)[0],:,0:4]\n",
    "    x_test = samples[np.where(subject_id==num_s)[0],:,0:4]\n",
    "    y_train = np.zeros([0,int(window_size/seq),1])\n",
    "    y_test = np.zeros([0,int(window_size/seq),1])\n",
    "    for i in range(len(labels)):\n",
    "        sig = resample(labels[i][:,v_a],int(window_size/seq)).reshape([1,-1,1])/9\n",
    "        if subject_id[i] == num_s:\n",
    "            y_test = np.concatenate([y_test,sig],axis = 0)\n",
    "        else:\n",
    "            y_train = np.concatenate([y_train,sig],axis = 0)\n",
    "\n",
    "    return x_train, x_test, y_train, y_test"
   ]
  },
  {
   "cell_type": "code",
   "execution_count": 4,
   "metadata": {
    "scrolled": true
   },
   "outputs": [
    {
     "name": "stdout",
     "output_type": "stream",
     "text": [
      "*********************** extract variables *************************\n",
      "(232, 2000, 4)\n",
      "(8, 2000, 4)\n",
      "(232, 100, 1)\n",
      "(8, 100, 1)\n"
     ]
    }
   ],
   "source": [
    "if __name__==\"__main__\":\n",
    "    print ('*********************** extract variables *************************')\n",
    "    #################################################################################\n",
    "    #########                        data gallery                           #########\n",
    "    #################################################################################\n",
    "    x_train, x_test, y_train, y_test = load_data_new(window_size, num_s, v_a, datapath)\n",
    "    #x_train, x_test, y_train, y_test = load_data_old(window_size, num_s, datapath) \n",
    "    # first check of data shape\n",
    "    print(x_train.shape)\n",
    "    print(x_test.shape)\n",
    "    print(y_train.shape)\n",
    "    print(y_test.shape)"
   ]
  },
  {
   "cell_type": "code",
   "execution_count": 5,
   "metadata": {},
   "outputs": [
    {
     "name": "stdout",
     "output_type": "stream",
     "text": [
      "================  extract individual variables  =================\n",
      "[19. 39. 59. 79.]\n"
     ]
    }
   ],
   "source": [
    "    #################################################################################\n",
    "    #########                      pre-processing                           #########\n",
    "    #################################################################################\n",
    "    # choose the target dimension for reshaping of the signals\n",
    "    batch_train_size, sample_x_size, channels = x_train.shape\n",
    "    batch_test_size, sample_x_size, _ = x_test.shape\n",
    "    _, sample_y_size, _ = y_train.shape\n",
    "    x_dim = 5\n",
    "    y_dim = 5\n",
    "    series_x_len = sample_x_size // (y_dim * x_dim)\n",
    "    series_y_len = sample_y_size // (y_dim * x_dim)\n",
    "    # reshape the input and labels\n",
    "    sample_train_xy = np.reshape(x_train,[batch_train_size, series_x_len, y_dim, x_dim, channels])\n",
    "    sample_test_xy = np.reshape(x_test,[batch_test_size, series_x_len, y_dim, x_dim, channels])\n",
    "    label_c_train_xy = np.reshape(y_train,[batch_train_size, series_y_len, y_dim, x_dim])\n",
    "    label_c_test_xy = np.reshape(y_test,[batch_test_size, series_y_len, y_dim, x_dim])\n",
    "    #################################################################################\n",
    "    #########                       normalization                           #########\n",
    "    #################################################################################\n",
    "    print('================  extract individual variables  =================')\n",
    "    sample_1 = sample_train_xy[:,:,:,:,0]\n",
    "    sample_2 = sample_train_xy[:,:,:,:,1]\n",
    "    sample_3 = sample_train_xy[:,:,:,:,2]\n",
    "    sample_4 = sample_train_xy[:,:,:,:,3]\n",
    "    \n",
    "    sample_1_test = sample_test_xy[:,:,:,:,0]\n",
    "    sample_2_test = sample_test_xy[:,:,:,:,1]\n",
    "    sample_3_test = sample_test_xy[:,:,:,:,2]\n",
    "    sample_4_test = sample_test_xy[:,:,:,:,3] \n",
    "    \n",
    "    # using indicator for training\n",
    "    # video_label_3D = np.repeat(video_label[:,np.newaxis,:],series_len,1)\n",
    "    # video_label_4D = np.repeat(video_label_3D[:,:,np.newaxis,:],y_dim,2)\n",
    "    # video_label_xy = np.repeat(video_label_4D[:,:,:,np.newaxis,:],x_dim,3)\n",
    "    # video_label_xy.astype(float)\n",
    "    \n",
    "    # length diff for training\n",
    "    len_diff = series_x_len / series_y_len\n",
    "    # for the output at certain loop iteration\n",
    "    diff_output_iter = np.arange(len_diff-1, series_x_len, len_diff)\n",
    "    print(diff_output_iter)"
   ]
  },
  {
   "cell_type": "code",
   "execution_count": 6,
   "metadata": {
    "scrolled": true
   },
   "outputs": [
    {
     "name": "stdout",
     "output_type": "stream",
     "text": [
      "(232, 4, 5, 5)\n",
      "(232, 80, 5, 5)\n"
     ]
    }
   ],
   "source": [
    "    # first check of data shape\n",
    "    print(label_c_train_xy.shape)\n",
    "    print(sample_1.shape)"
   ]
  },
  {
   "cell_type": "markdown",
   "metadata": {},
   "source": [
    "# Procedure for LSTM <br>\n",
    "** We use Pytorth to implement LSTM neural network with time series of climate data. ** <br>"
   ]
  },
  {
   "cell_type": "code",
   "execution_count": 6,
   "metadata": {},
   "outputs": [
    {
     "name": "stdout",
     "output_type": "stream",
     "text": [
      "*******************  create basic dimensions for tensor and network  *********************\n",
      "1.1.0\n",
      "Is CUDA available? True\n",
      "*******************  cross validation and testing data  *********************\n",
      "True\n"
     ]
    }
   ],
   "source": [
    "    print ('*******************  create basic dimensions for tensor and network  *********************')\n",
    "    # specifications of neural network\n",
    "    input_channels = 4\n",
    "    hidden_channels = [3, 2, 1] # number of channels & hidden layers, the channels of last layer is the channels of output, too\n",
    "    #hidden_channels = [4, 3, 3, 2, 1]\n",
    "    kernel_size = 1\n",
    "    # here we input a sequence and predict the next step only\n",
    "    learning_rate = 0.001\n",
    "    num_epochs = 50\n",
    "    print (torch.__version__)\n",
    "    # check if CUDA is available\n",
    "    use_cuda = torch.cuda.is_available()\n",
    "    print(\"Is CUDA available? {}\".format(use_cuda))\n",
    "    # CUDA settings torch.__version__ must > 0.4\n",
    "    # !!! This is important for the model!!! The first option is gpu\n",
    "    device = torch.device(\"cuda:0\" if torch.cuda.is_available() else \"cpu\")\n",
    "    print ('*******************  cross validation and testing data  *********************')\n",
    "    # mini-batch\n",
    "    mini_batch_size = 28\n",
    "    # iterations\n",
    "    # iterations\n",
    "    iterations = batch_train_size // mini_batch_size\n",
    "    if batch_train_size % mini_batch_size != 0:\n",
    "        extra_loop = True\n",
    "        iterations += 1\n",
    "    else:\n",
    "        extra_loop = False\n",
    "    print(extra_loop)"
   ]
  },
  {
   "cell_type": "code",
   "execution_count": 8,
   "metadata": {},
   "outputs": [
    {
     "name": "stdout",
     "output_type": "stream",
     "text": [
      "*******************  run ConvLSTM  *********************\n",
      "The model is designed to make many to one prediction.\n",
      "A series of multi-chanel variables will be input to the model.\n",
      "The model learns by verifying the output at each timestep.\n",
      "ConvLSTM(\n",
      "  (cell0): ConvLSTMCell(\n",
      "    (Wxi): Conv2d(4, 3, kernel_size=(1, 1), stride=(1, 1))\n",
      "    (Whi): Conv2d(3, 3, kernel_size=(1, 1), stride=(1, 1), bias=False)\n",
      "    (Wxf): Conv2d(4, 3, kernel_size=(1, 1), stride=(1, 1))\n",
      "    (Whf): Conv2d(3, 3, kernel_size=(1, 1), stride=(1, 1), bias=False)\n",
      "    (Wxc): Conv2d(4, 3, kernel_size=(1, 1), stride=(1, 1))\n",
      "    (Whc): Conv2d(3, 3, kernel_size=(1, 1), stride=(1, 1), bias=False)\n",
      "    (Wxo): Conv2d(4, 3, kernel_size=(1, 1), stride=(1, 1))\n",
      "    (Who): Conv2d(3, 3, kernel_size=(1, 1), stride=(1, 1), bias=False)\n",
      "  )\n",
      "  (cell1): ConvLSTMCell(\n",
      "    (Wxi): Conv2d(3, 2, kernel_size=(1, 1), stride=(1, 1))\n",
      "    (Whi): Conv2d(2, 2, kernel_size=(1, 1), stride=(1, 1), bias=False)\n",
      "    (Wxf): Conv2d(3, 2, kernel_size=(1, 1), stride=(1, 1))\n",
      "    (Whf): Conv2d(2, 2, kernel_size=(1, 1), stride=(1, 1), bias=False)\n",
      "    (Wxc): Conv2d(3, 2, kernel_size=(1, 1), stride=(1, 1))\n",
      "    (Whc): Conv2d(2, 2, kernel_size=(1, 1), stride=(1, 1), bias=False)\n",
      "    (Wxo): Conv2d(3, 2, kernel_size=(1, 1), stride=(1, 1))\n",
      "    (Who): Conv2d(2, 2, kernel_size=(1, 1), stride=(1, 1), bias=False)\n",
      "  )\n",
      "  (cell2): ConvLSTMCell(\n",
      "    (Wxi): Conv2d(2, 1, kernel_size=(1, 1), stride=(1, 1))\n",
      "    (Whi): Conv2d(1, 1, kernel_size=(1, 1), stride=(1, 1), bias=False)\n",
      "    (Wxf): Conv2d(2, 1, kernel_size=(1, 1), stride=(1, 1))\n",
      "    (Whf): Conv2d(1, 1, kernel_size=(1, 1), stride=(1, 1), bias=False)\n",
      "    (Wxc): Conv2d(2, 1, kernel_size=(1, 1), stride=(1, 1))\n",
      "    (Whc): Conv2d(1, 1, kernel_size=(1, 1), stride=(1, 1), bias=False)\n",
      "    (Wxo): Conv2d(2, 1, kernel_size=(1, 1), stride=(1, 1))\n",
      "    (Who): Conv2d(1, 1, kernel_size=(1, 1), stride=(1, 1), bias=False)\n",
      "  )\n",
      ")\n",
      "MSELoss()\n",
      "Adam (\n",
      "Parameter Group 0\n",
      "    amsgrad: False\n",
      "    betas: (0.9, 0.999)\n",
      "    eps: 1e-08\n",
      "    lr: 0.001\n",
      "    weight_decay: 0\n",
      ")\n",
      "Wall time: 19.9 ms\n"
     ]
    }
   ],
   "source": [
    "    %%time\n",
    "    print ('*******************  run ConvLSTM  *********************')\n",
    "    print ('The model is designed to make many to one prediction.')\n",
    "    print ('A series of multi-chanel variables will be input to the model.')\n",
    "    print ('The model learns by verifying the output at each timestep.')\n",
    "    # check the sequence length\n",
    "    _, sequence_len, height, width = sample_1.shape\n",
    "    #_, sequence_len, height, width = sample_1_norm.shape\n",
    "    # initialize our model\n",
    "    model = nemo.ConvLSTM.ConvLSTM(input_channels, hidden_channels, kernel_size).to(device)\n",
    "    loss_fn = torch.nn.MSELoss(size_average=True)\n",
    "    # stochastic gradient descent\n",
    "    #optimizer = torch.optim.SGD(model.parameters(), lr=learning_rate, momentum=0.9)\n",
    "    # Adam optimizer\n",
    "    optimiser = torch.optim.Adam(model.parameters(), lr=learning_rate)\n",
    "    print(model)\n",
    "    print(loss_fn)\n",
    "    print(optimiser)"
   ]
  },
  {
   "cell_type": "code",
   "execution_count": null,
   "metadata": {},
   "outputs": [],
   "source": [
    "    for name, param in model.named_parameters():\n",
    "        if param.requires_grad:\n",
    "            print (name)\n",
    "            print (param.data)\n",
    "            print (param.size())\n",
    "            print (\"=========================\")"
   ]
  },
  {
   "cell_type": "code",
   "execution_count": null,
   "metadata": {},
   "outputs": [],
   "source": [
    "    print('##############################################################')\n",
    "    print('#############  preview model parameters matrix  ###############')\n",
    "    print('##############################################################')\n",
    "    print('Number of parameter matrices: ', len(list(model.parameters())))\n",
    "    for i in range(len(list(model.parameters()))):\n",
    "        print(list(model.parameters())[i].size())"
   ]
  },
  {
   "cell_type": "code",
   "execution_count": 9,
   "metadata": {},
   "outputs": [
    {
     "name": "stdout",
     "output_type": "stream",
     "text": [
      "##############################################################\n",
      "##################  start training loop  #####################\n",
      "##############################################################\n",
      "Epoch 0 Iteration 0 MSE: 2.212\n",
      "Epoch 0 Iteration 5 MSE: 1.258\n",
      "Epoch 1 Iteration 0 MSE: 2.154\n",
      "Epoch 1 Iteration 5 MSE: 1.217\n",
      "Epoch 2 Iteration 0 MSE: 2.100\n",
      "Epoch 2 Iteration 5 MSE: 1.177\n",
      "Epoch 3 Iteration 0 MSE: 2.047\n",
      "Epoch 3 Iteration 5 MSE: 1.139\n",
      "Epoch 4 Iteration 0 MSE: 1.996\n",
      "Epoch 4 Iteration 5 MSE: 1.103\n",
      "Epoch 5 Iteration 0 MSE: 1.947\n",
      "Epoch 5 Iteration 5 MSE: 1.067\n",
      "Epoch 6 Iteration 0 MSE: 1.899\n",
      "Epoch 6 Iteration 5 MSE: 1.033\n",
      "Epoch 7 Iteration 0 MSE: 1.852\n",
      "Epoch 7 Iteration 5 MSE: 0.999\n",
      "Epoch 8 Iteration 0 MSE: 1.807\n",
      "Epoch 8 Iteration 5 MSE: 0.966\n",
      "Epoch 9 Iteration 0 MSE: 1.761\n",
      "Epoch 9 Iteration 5 MSE: 0.933\n",
      "Epoch 10 Iteration 0 MSE: 1.716\n",
      "Epoch 10 Iteration 5 MSE: 0.901\n",
      "Epoch 11 Iteration 0 MSE: 1.671\n",
      "Epoch 11 Iteration 5 MSE: 0.869\n",
      "Epoch 12 Iteration 0 MSE: 1.625\n",
      "Epoch 12 Iteration 5 MSE: 0.836\n",
      "Epoch 13 Iteration 0 MSE: 1.578\n",
      "Epoch 13 Iteration 5 MSE: 0.804\n",
      "Epoch 14 Iteration 0 MSE: 1.530\n",
      "Epoch 14 Iteration 5 MSE: 0.772\n",
      "Epoch 15 Iteration 0 MSE: 1.480\n",
      "Epoch 15 Iteration 5 MSE: 0.739\n",
      "Epoch 16 Iteration 0 MSE: 1.429\n",
      "Epoch 16 Iteration 5 MSE: 0.706\n",
      "Epoch 17 Iteration 0 MSE: 1.375\n",
      "Epoch 17 Iteration 5 MSE: 0.673\n",
      "Epoch 18 Iteration 0 MSE: 1.320\n",
      "Epoch 18 Iteration 5 MSE: 0.640\n",
      "Epoch 19 Iteration 0 MSE: 1.264\n",
      "Epoch 19 Iteration 5 MSE: 0.606\n",
      "Epoch 20 Iteration 0 MSE: 1.206\n",
      "Epoch 20 Iteration 5 MSE: 0.573\n",
      "Epoch 21 Iteration 0 MSE: 1.148\n",
      "Epoch 21 Iteration 5 MSE: 0.539\n",
      "Epoch 22 Iteration 0 MSE: 1.090\n",
      "Epoch 22 Iteration 5 MSE: 0.505\n",
      "Epoch 23 Iteration 0 MSE: 1.031\n",
      "Epoch 23 Iteration 5 MSE: 0.471\n",
      "Epoch 24 Iteration 0 MSE: 0.972\n",
      "Epoch 24 Iteration 5 MSE: 0.437\n",
      "Epoch 25 Iteration 0 MSE: 0.913\n",
      "Epoch 25 Iteration 5 MSE: 0.403\n",
      "Epoch 26 Iteration 0 MSE: 0.854\n",
      "Epoch 26 Iteration 5 MSE: 0.369\n",
      "Epoch 27 Iteration 0 MSE: 0.794\n",
      "Epoch 27 Iteration 5 MSE: 0.336\n",
      "Epoch 28 Iteration 0 MSE: 0.733\n",
      "Epoch 28 Iteration 5 MSE: 0.304\n",
      "Epoch 29 Iteration 0 MSE: 0.673\n",
      "Epoch 29 Iteration 5 MSE: 0.274\n",
      "Epoch 30 Iteration 0 MSE: 0.613\n",
      "Epoch 30 Iteration 5 MSE: 0.244\n",
      "Epoch 31 Iteration 0 MSE: 0.555\n",
      "Epoch 31 Iteration 5 MSE: 0.217\n",
      "Epoch 32 Iteration 0 MSE: 0.497\n",
      "Epoch 32 Iteration 5 MSE: 0.193\n",
      "Epoch 33 Iteration 0 MSE: 0.443\n",
      "Epoch 33 Iteration 5 MSE: 0.171\n",
      "Epoch 34 Iteration 0 MSE: 0.391\n",
      "Epoch 34 Iteration 5 MSE: 0.153\n",
      "Epoch 35 Iteration 0 MSE: 0.342\n",
      "Epoch 35 Iteration 5 MSE: 0.139\n",
      "Epoch 36 Iteration 0 MSE: 0.298\n",
      "Epoch 36 Iteration 5 MSE: 0.128\n",
      "Epoch 37 Iteration 0 MSE: 0.258\n",
      "Epoch 37 Iteration 5 MSE: 0.120\n",
      "Epoch 38 Iteration 0 MSE: 0.223\n",
      "Epoch 38 Iteration 5 MSE: 0.115\n",
      "Epoch 39 Iteration 0 MSE: 0.192\n",
      "Epoch 39 Iteration 5 MSE: 0.113\n",
      "Epoch 40 Iteration 0 MSE: 0.166\n",
      "Epoch 40 Iteration 5 MSE: 0.113\n",
      "Epoch 41 Iteration 0 MSE: 0.144\n",
      "Epoch 41 Iteration 5 MSE: 0.115\n",
      "Epoch 42 Iteration 0 MSE: 0.127\n",
      "Epoch 42 Iteration 5 MSE: 0.117\n",
      "Epoch 43 Iteration 0 MSE: 0.113\n",
      "Epoch 43 Iteration 5 MSE: 0.120\n",
      "Epoch 44 Iteration 0 MSE: 0.101\n",
      "Epoch 44 Iteration 5 MSE: 0.123\n",
      "Epoch 45 Iteration 0 MSE: 0.093\n",
      "Epoch 45 Iteration 5 MSE: 0.126\n",
      "Epoch 46 Iteration 0 MSE: 0.086\n",
      "Epoch 46 Iteration 5 MSE: 0.128\n",
      "Epoch 47 Iteration 0 MSE: 0.082\n",
      "Epoch 47 Iteration 5 MSE: 0.130\n",
      "Epoch 48 Iteration 0 MSE: 0.078\n",
      "Epoch 48 Iteration 5 MSE: 0.131\n",
      "Epoch 49 Iteration 0 MSE: 0.076\n",
      "Epoch 49 Iteration 5 MSE: 0.132\n",
      "Wall time: 1h 33min 54s\n"
     ]
    }
   ],
   "source": [
    "    %%time\n",
    "    print('##############################################################')\n",
    "    print('##################  start training loop  #####################')\n",
    "    print('##############################################################')\n",
    "    hist = np.zeros(num_epochs * iterations)\n",
    "    # loop of epoch\n",
    "    for t in range(num_epochs):\n",
    "        for i in range(iterations):\n",
    "            # Clear stored gradient\n",
    "            model.zero_grad()\n",
    "            # loop\n",
    "            loop_num = mini_batch_size\n",
    "            if i == iterations - 1:\n",
    "                if extra_loop:\n",
    "                    loop_num = batch_train_size % mini_batch_size\n",
    "            for j in range(loop_num):\n",
    "            # loop of timestep\n",
    "                # critical step for verifying the loss\n",
    "                crit_step = 0            \n",
    "                for timestep in range(sequence_len):\n",
    "                    # hidden state re-initialized inside the model when timestep=0\n",
    "                    #################################################################################\n",
    "                    ########          create input tensor with multi-input dimension         ########\n",
    "                    #################################################################################\n",
    "                    # create variables\n",
    "                    x_input = np.stack((sample_1[i*mini_batch_size+j,timestep,:,:],\n",
    "                                        sample_2[i*mini_batch_size+j,timestep,:,:],\n",
    "                                        sample_3[i*mini_batch_size+j,timestep,:,:],\n",
    "                                        sample_4[i*mini_batch_size+j,timestep,:,:])) #vstack,hstack,dstack\n",
    "                    x_var = torch.autograd.Variable(torch.Tensor(x_input).view(-1,input_channels,height,width)).to(device)\n",
    "                    # Forward pass\n",
    "                    y_pred, _ = model(x_var, timestep)\n",
    "                    # counter for computing the loss\n",
    "                    if timestep in diff_output_iter: # determined by the length of label\n",
    "                        #################################################################################\n",
    "                        ########       create training tensor with multi-input dimension         ########\n",
    "                        #################################################################################\n",
    "                        y_train_stack = np.stack((label_c_train_xy[i*mini_batch_size+j,crit_step,:,:])) #vstack,hstack,dstack\n",
    "                        y_var = torch.autograd.Variable(torch.Tensor(y_train_stack).view(-1,hidden_channels[-1],height,width)).to(device)\n",
    "                        crit_step = crit_step + 1 # move forward\n",
    "                        #################################################################################   \n",
    "                        # choose training data\n",
    "                        y_train = y_var        \n",
    "                        # torch.nn.functional.mse_loss(y_pred, y_train) can work with (scalar,vector) & (vector,vector)\n",
    "                        # Please Make Sure y_pred & y_train have the same dimension\n",
    "                        # accumulate loss\n",
    "                        if timestep == diff_output_iter[0]:\n",
    "                            loss = loss_fn(y_pred, y_train)\n",
    "                        else:\n",
    "                            loss += loss_fn(y_pred, y_train)\n",
    "            # print loss at certain iteration\n",
    "            if i % 50 == 0:\n",
    "                print(\"Epoch {} Iteration {} MSE: {:0.3f}\".format(t, i, loss.item()))\n",
    "                # Gradcheck requires double precision numbers to run\n",
    "                #res = torch.autograd.gradcheck(loss_fn, (y_pred.double(), y_train.double()), eps=1e-6, raise_exception=True)\n",
    "                #print(res)\n",
    "            hist[i+t*iterations] = loss.item()\n",
    "\n",
    "            # Zero out gradient, else they will accumulate between epochs\n",
    "            optimiser.zero_grad()\n",
    "    \n",
    "            # Backward pass\n",
    "            loss.backward(retain_graph=True)\n",
    "\n",
    "            # Update parameters\n",
    "            optimiser.step()\n",
    "            \n",
    "        # save the model\n",
    "        if t % 20 == 0:\n",
    "            # (recommended) save the model parameters only\n",
    "            torch.save(model.state_dict(), os.path.join(model_path,'convlstm_emotion_epoch_{}.pkl'.format(t)))\n",
    "            # save the entire model\n",
    "            #torch.save(model, os.path.join(output_path,'convlstm.pkl'))\n",
    "        \n",
    "    # save the model\n",
    "    # (recommended) save the model parameters only\n",
    "    torch.save(model.state_dict(), os.path.join(model_path,'convlstm_emotion.pkl'))\n",
    "    # save the entire model\n",
    "    #torch.save(model, os.path.join(output_path,'convlstm.pkl'))"
   ]
  },
  {
   "cell_type": "code",
   "execution_count": 10,
   "metadata": {},
   "outputs": [
    {
     "name": "stdout",
     "output_type": "stream",
     "text": [
      "*******************  Loss with time  **********************\n",
      "*******************  Loss with time (log)  **********************\n"
     ]
    },
    {
     "data": {
      "image/png": "[encoded data removed]",
      "text/plain": [
       "<Figure size 432x288 with 1 Axes>"
      ]
     },
     "metadata": {
      "needs_background": "light"
     },
     "output_type": "display_data"
    },
    {
     "data": {
      "image/png": "[encoded data removed]",
      "text/plain": [
       "<Figure size 432x288 with 1 Axes>"
      ]
     },
     "metadata": {
      "needs_background": "light"
     },
     "output_type": "display_data"
    },
    {
     "data": {
      "text/plain": [
       "<Figure size 432x288 with 0 Axes>"
      ]
     },
     "metadata": {},
     "output_type": "display_data"
    }
   ],
   "source": [
    "    #################################################################################\n",
    "    ###########                 after training statistics                 ###########\n",
    "    #################################################################################\n",
    "    print (\"*******************  Loss with time  **********************\")\n",
    "    fig00 = plt.figure()\n",
    "    plt.plot(hist, 'r', label=\"Training loss\")\n",
    "    plt.xlabel('Iterations')\n",
    "    plt.ylabel('MSE Error')\n",
    "    plt.legend()\n",
    "    plt.tight_layout()\n",
    "    fig00.savefig(os.path.join(output_path,'ConvLSTM_train_mse_error.png'),dpi=150)\n",
    "    \n",
    "    print (\"*******************  Loss with time (log)  **********************\")\n",
    "    fig01 = plt.figure()\n",
    "    plt.plot(np.log(hist), 'r', label=\"Training loss\")\n",
    "    plt.xlabel('Iterations')\n",
    "    plt.ylabel('Log mse error')\n",
    "    plt.legend()\n",
    "    plt.show()\n",
    "    plt.tight_layout()\n",
    "    fig01.savefig(os.path.join(output_path,'ConvLSTM_train_log_mse_error.png'),dpi=150)"
   ]
  },
  {
   "cell_type": "code",
   "execution_count": 11,
   "metadata": {},
   "outputs": [
    {
     "name": "stdout",
     "output_type": "stream",
     "text": [
      "*******************  evaluation matrix  *********************\n"
     ]
    }
   ],
   "source": [
    "    print ('*******************  evaluation matrix  *********************')\n",
    "    # The prediction will be evaluated through RMSE against climatology\n",
    "    \n",
    "    # error score for temporal-spatial fields, without keeping spatial pattern\n",
    "    def RMSE(x,y):\n",
    "        \"\"\"\n",
    "        Calculate the RMSE. x is input series and y is reference series.\n",
    "        It calculates RMSE over the domain, not over time. The spatial structure\n",
    "        will not be kept.\n",
    "        Parameter\n",
    "        ----------------------\n",
    "        x: input time series with the shape [time, lat, lon]\n",
    "        \"\"\"\n",
    "        x_series = x.reshape(x.shape[0],-1)\n",
    "        y_series = y.reshape(y.shape[0],-1)\n",
    "        rmse = np.sqrt(np.mean((x_series - y_series)**2,1))\n",
    "        rmse_std = np.std(np.sqrt((x_series - y_series)**2,1))\n",
    "    \n",
    "        return rmse, rmse_std\n",
    "    \n",
    "    # error score for temporal-spatial fields, keeping spatial pattern\n",
    "    def MAE(x,y):\n",
    "        \"\"\"\n",
    "        Calculate the MAE. x is input series and y is reference series.\n",
    "        It calculate MAE over time and keeps the spatial structure.\n",
    "        \"\"\"\n",
    "        mae = np.mean(np.abs(x-y),0)\n",
    "        \n",
    "        return mae\n",
    "    \n",
    "    def MSE(x, y):\n",
    "        \"\"\"\n",
    "        Calculate the MSE. x is input series and y is reference series.\n",
    "        \"\"\"\n",
    "        mse = np.mean((x-y)**2)\n",
    "        \n",
    "        return mse"
   ]
  },
  {
   "cell_type": "code",
   "execution_count": 12,
   "metadata": {},
   "outputs": [
    {
     "name": "stdout",
     "output_type": "stream",
     "text": [
      "##############################################################\n",
      "###################  start prediction loop ###################\n",
      "##############################################################\n",
      "*******************  Loss with time  **********************\n",
      "Wall time: 3.72 s\n"
     ]
    },
    {
     "data": {
      "image/png": "[encoded data removed]",
      "text/plain": [
       "<Figure size 432x288 with 1 Axes>"
      ]
     },
     "metadata": {
      "needs_background": "light"
     },
     "output_type": "display_data"
    }
   ],
   "source": [
    "    %%time\n",
    "    #################################################################################\n",
    "    ########                           prediction                            ########\n",
    "    #################################################################################\n",
    "    print('##############################################################')\n",
    "    print('###################  start prediction loop ###################')\n",
    "    print('##############################################################')\n",
    "    # forecast array\n",
    "    pred_label = np.zeros((batch_test_size, series_y_len, y_dim, x_dim),dtype=float)\n",
    "    # calculate loss for each sample\n",
    "    hist_label = np.zeros(batch_test_size)\n",
    "    for n in range(batch_test_size):\n",
    "        # Clear stored gradient\n",
    "        model.zero_grad()\n",
    "        # critical step for saving the output\n",
    "        crit_step_pred = 0\n",
    "        for timestep in range(sequence_len):\n",
    "            x_input = np.stack((sample_1_test[n,timestep,:,:],\n",
    "                                sample_2_test[n,timestep,:,:],\n",
    "                                sample_3_test[n,timestep,:,:],\n",
    "                                sample_4_test[n,timestep,:,:]))\n",
    "            x_var_pred = torch.autograd.Variable(torch.Tensor(x_input).view(-1,input_channels,height,width),\n",
    "                                                 requires_grad=False).to(device)\n",
    "            # make prediction\n",
    "            last_pred, _ = model(x_var_pred, timestep)\n",
    "            # counter for prediction\n",
    "            if timestep in diff_output_iter: # determined by the length of label\n",
    "                # GPU data should be transferred to CPU\n",
    "                pred_label[n,crit_step_pred,:,:] = last_pred[0,0,:,:].cpu().data.numpy()\n",
    "                crit_step_pred = crit_step_pred + 1 # move forward\n",
    "        # compute the error for each sample\n",
    "        hist_label[n] = MSE(label_c_test_xy[n,:,:,:], pred_label[n,:,:,:])\n",
    "    \n",
    "    # save prediction as npz file\n",
    "    np.savez_compressed(os.path.join(output_path,'ConvLSTM_emotion_pred.npz'),\n",
    "                        label_c = pred_label)\n",
    "    # plot the error\n",
    "    print (\"*******************  Loss with time  **********************\")\n",
    "    fig00 = plt.figure()\n",
    "    plt.plot(hist_label, 'r', label=\"Validation loss\")\n",
    "    plt.xlabel('Sample')\n",
    "    plt.ylabel('MSE Error')\n",
    "    plt.legend()\n",
    "    plt.tight_layout()\n",
    "    fig00.savefig(os.path.join(output_path,'ConvLSTM_pred_mse_error.png'),dpi=150) "
   ]
  },
  {
   "cell_type": "code",
   "execution_count": 13,
   "metadata": {},
   "outputs": [
    {
     "name": "stdout",
     "output_type": "stream",
     "text": [
      "0.02882709742851517\n"
     ]
    }
   ],
   "source": [
    "    #####################################################################################\n",
    "    ########         visualization of prediction and implement metrics           ########\n",
    "    #####################################################################################\n",
    "    # compute mse\n",
    "    mse_label = MSE(label_c_test_xy, pred_label)\n",
    "    print(mse_label)\n",
    "    # save output as csv file\n",
    "    with open(os.path.join(output_path, \"MSE_ConvLSTM_emotion.csv\"), \"wt+\") as fp:\n",
    "        writer = csv.writer(fp, delimiter=\",\")\n",
    "        writer.writerow([\"emotion prediction\"])  # write header\n",
    "        writer.writerow([\"label\"])\n",
    "        writer.writerow([mse_label])"
   ]
  }
 ],
 "metadata": {
  "kernelspec": {
   "display_name": "Python 3",
   "language": "python",
   "name": "python3"
  },
  "language_info": {
   "codemirror_mode": {
    "name": "ipython",
    "version": 3
   },
   "file_extension": ".py",
   "mimetype": "text/x-python",
   "name": "python",
   "nbconvert_exporter": "python",
   "pygments_lexer": "ipython3",
   "version": "3.6.5"
  }
 },
 "nbformat": 4,
 "nbformat_minor": 4
}
